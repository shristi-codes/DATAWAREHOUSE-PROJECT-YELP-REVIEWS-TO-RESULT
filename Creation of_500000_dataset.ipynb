{
 "cells": [
  {
   "cell_type": "code",
   "execution_count": 2,
   "id": "75ade82f-ab3c-4b8c-aad7-10c404090f06",
   "metadata": {},
   "outputs": [
    {
     "name": "stdout",
     "output_type": "stream",
     "text": [
      "                review_id                 user_id             business_id  \\\n",
      "0  KU_O5udG6zpxOg-VcAEodg  mh_-eMZ6K5RLWhZyISBhwA  XQfwVwDr-v0ZS3_CbbE5Xw   \n",
      "1  BiTunyQ73aT9WBnpR9DZGw  OyoGAe7OKpv6SyGZT5g77Q  7ATYjTIgM3jUlt4UM3IypQ   \n",
      "2  saUsX_uimxRlCVr67Z4Jig  8g_iMtfSiwikVnbP2etR0A  YjUWPpI6HXG530lwP-fb2A   \n",
      "3  AqPFMleE6RsU23_auESxiA  _7bHUi9Uuf5__HHc_Q8guQ  kxX2SOes4o-D3ZQBkiMRfA   \n",
      "4  Sx8TMOWLNuJBWer-0pcmoA  bcjbaE6dDog4jkNY91ncLQ  e4Vwtrqf-wpJfwesgvdgxQ   \n",
      "\n",
      "   stars  useful  funny  cool  \\\n",
      "0      3       0      0     0   \n",
      "1      5       1      0     1   \n",
      "2      3       0      0     0   \n",
      "3      5       1      0     1   \n",
      "4      4       1      0     1   \n",
      "\n",
      "                                                text                date  \n",
      "0  If you decide to eat here, just be aware it is... 2018-07-07 22:09:11  \n",
      "1  I've taken a lot of spin classes over the year... 2012-01-03 15:28:18  \n",
      "2  Family diner. Had the buffet. Eclectic assortm... 2014-02-05 20:30:30  \n",
      "3  Wow!  Yummy, different,  delicious.   Our favo... 2015-01-04 00:01:03  \n",
      "4  Cute interior and owner (?) gave us tour of up... 2017-01-14 20:54:15  \n"
     ]
    }
   ],
   "source": [
    "import pandas as pd\n",
    "\n",
    "file_path = \"yelp_academic_dataset_review.json\"\n",
    "chunksize = 100000  # Number of rows per chunk\n",
    "max_rows = 500000\n",
    "chunk_list = []\n",
    "rows_loaded = 0\n",
    "\n",
    "# Read the file chunk by chunk\n",
    "for chunk in pd.read_json(file_path, lines=True, chunksize=chunksize):\n",
    "    if rows_loaded + len(chunk) <= max_rows:\n",
    "        chunk_list.append(chunk)\n",
    "        rows_loaded += len(chunk)\n",
    "    else:\n",
    "        # Only take the remaining needed rows from this chunk\n",
    "        remaining_rows = max_rows - rows_loaded\n",
    "        chunk_list.append(chunk.iloc[:remaining_rows])\n",
    "        break\n",
    "\n",
    "# Concatenate all gathered chunks\n",
    "review_df = pd.concat(chunk_list, axis=0, ignore_index=True)\n",
    "\n",
    "# Display the first few rows\n",
    "print(review_df.head())"
   ]
  },
  {
   "cell_type": "code",
   "execution_count": 3,
   "id": "0335b9f7-7f07-4091-a974-43480a98cd88",
   "metadata": {},
   "outputs": [
    {
     "name": "stdout",
     "output_type": "stream",
     "text": [
      "Hello\n"
     ]
    },
    {
     "data": {
      "text/html": [
       "<a href='yelp_reviews_500000_datasets.json' target='_blank'>yelp_reviews_500000_datasets.json</a><br>"
      ],
      "text/plain": [
       "/Users/abhishekkumar/Downloads/Yelp JSON/yelp_reviews_500000_datasets.json"
      ]
     },
     "execution_count": 3,
     "metadata": {},
     "output_type": "execute_result"
    }
   ],
   "source": [
    "from IPython.display import FileLink\n",
    "\n",
    "# Save the cleaned DataFrame to a JSON file in the current working directory\n",
    "review_df.to_json('yelp_reviews_500000_datasets.json', orient='records', lines=True)\n",
    "print(\"Hello\")\n",
    "# Create a download link for the JSON file\n",
    "FileLink('yelp_reviews_500000_datasets.json')"
   ]
  },
  {
   "cell_type": "code",
   "execution_count": null,
   "id": "c0a2f12d-98b3-4e8c-a29d-34c558d98479",
   "metadata": {},
   "outputs": [],
   "source": []
  }
 ],
 "metadata": {
  "kernelspec": {
   "display_name": "Python 3 (ipykernel)",
   "language": "python",
   "name": "python3"
  },
  "language_info": {
   "codemirror_mode": {
    "name": "ipython",
    "version": 3
   },
   "file_extension": ".py",
   "mimetype": "text/x-python",
   "name": "python",
   "nbconvert_exporter": "python",
   "pygments_lexer": "ipython3",
   "version": "3.12.7"
  }
 },
 "nbformat": 4,
 "nbformat_minor": 5
}
