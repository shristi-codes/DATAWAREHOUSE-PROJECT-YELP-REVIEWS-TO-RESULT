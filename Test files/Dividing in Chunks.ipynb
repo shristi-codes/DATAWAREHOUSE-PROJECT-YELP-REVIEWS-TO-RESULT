{
 "cells": [
  {
   "cell_type": "code",
   "execution_count": 6,
   "id": "d68853c4-3940-4b98-a83e-fae3c55ecc5c",
   "metadata": {},
   "outputs": [],
   "source": [
    "import pandas as pd"
   ]
  },
  {
   "cell_type": "code",
   "execution_count": 7,
   "id": "672c4b48-47b2-48e6-aa2e-05c79e74d728",
   "metadata": {},
   "outputs": [
    {
     "name": "stdout",
     "output_type": "stream",
     "text": [
      "                review_id                 user_id             business_id  \\\n",
      "0  KU_O5udG6zpxOg-VcAEodg  mh_-eMZ6K5RLWhZyISBhwA  XQfwVwDr-v0ZS3_CbbE5Xw   \n",
      "1  BiTunyQ73aT9WBnpR9DZGw  OyoGAe7OKpv6SyGZT5g77Q  7ATYjTIgM3jUlt4UM3IypQ   \n",
      "2  saUsX_uimxRlCVr67Z4Jig  8g_iMtfSiwikVnbP2etR0A  YjUWPpI6HXG530lwP-fb2A   \n",
      "3  AqPFMleE6RsU23_auESxiA  _7bHUi9Uuf5__HHc_Q8guQ  kxX2SOes4o-D3ZQBkiMRfA   \n",
      "4  Sx8TMOWLNuJBWer-0pcmoA  bcjbaE6dDog4jkNY91ncLQ  e4Vwtrqf-wpJfwesgvdgxQ   \n",
      "\n",
      "   stars  useful  funny  cool  \\\n",
      "0      3       0      0     0   \n",
      "1      5       1      0     1   \n",
      "2      3       0      0     0   \n",
      "3      5       1      0     1   \n",
      "4      4       1      0     1   \n",
      "\n",
      "                                                text                date  \n",
      "0  If you decide to eat here, just be aware it is... 2018-07-07 22:09:11  \n",
      "1  I've taken a lot of spin classes over the year... 2012-01-03 15:28:18  \n",
      "2  Family diner. Had the buffet. Eclectic assortm... 2014-02-05 20:30:30  \n",
      "3  Wow!  Yummy, different,  delicious.   Our favo... 2015-01-04 00:01:03  \n",
      "4  Cute interior and owner (?) gave us tour of up... 2017-01-14 20:54:15  \n"
     ]
    }
   ],
   "source": [
    "import pandas as pd\n",
    "\n",
    "# Read the JSON file in chunks to avoid memory overload\n",
    "file_path = \"yelp_academic_dataset_review.json\"\n",
    "chunksize = 100000  # Number of rows per chunk\n",
    "chunk_list = []  # List to store chunks\n",
    "\n",
    "for chunk in pd.read_json(file_path, lines=True, chunksize=chunksize):\n",
    "    chunk_list.append(chunk)\n",
    "\n",
    "# Concatenate all chunks into one DataFrame (if memory allows)\n",
    "review_df = pd.concat(chunk_list, axis=0, ignore_index=True)\n",
    "print(review_df.head())  # Display the first few rows"
   ]
  },
  {
   "cell_type": "code",
   "execution_count": 9,
   "id": "f689b976-7916-4453-8d4e-a5be68d054ef",
   "metadata": {},
   "outputs": [
    {
     "name": "stdout",
     "output_type": "stream",
     "text": [
      "Saved split_chunks/review_chunk_0.json\n",
      "Saved split_chunks/review_chunk_1.json\n",
      "Saved split_chunks/review_chunk_2.json\n",
      "Saved split_chunks/review_chunk_3.json\n",
      "Saved split_chunks/review_chunk_4.json\n",
      "Saved split_chunks/review_chunk_5.json\n",
      "Saved split_chunks/review_chunk_6.json\n",
      "Saved split_chunks/review_chunk_7.json\n",
      "Saved split_chunks/review_chunk_8.json\n",
      "Saved split_chunks/review_chunk_9.json\n",
      "Saved split_chunks/review_chunk_10.json\n",
      "Saved split_chunks/review_chunk_11.json\n",
      "Saved split_chunks/review_chunk_12.json\n",
      "Saved split_chunks/review_chunk_13.json\n"
     ]
    }
   ],
   "source": [
    "import pandas as pd\n",
    "import os\n",
    "\n",
    "file_path = \"yelp_academic_dataset_review.json\"\n",
    "output_dir = \"split_chunks\"\n",
    "chunksize = 500000  # You can tweak this based on output size per chunk\n",
    "\n",
    "os.makedirs(output_dir, exist_ok=True)\n",
    "\n",
    "for i, chunk in enumerate(pd.read_json(file_path, lines=True, chunksize=chunksize)):\n",
    "    output_file = os.path.join(output_dir, f\"review_chunk_{i}.json\")\n",
    "    chunk.to_json(output_file, orient='records', lines=True)\n",
    "    print(f\"Saved {output_file}\")"
   ]
  },
  {
   "cell_type": "code",
   "execution_count": 10,
   "id": "672e06c2-b943-45ff-98d6-2fbc40dd3e19",
   "metadata": {},
   "outputs": [
    {
     "name": "stdout",
     "output_type": "stream",
     "text": [
      "review_chunk_3.json: 354.31 MB\n",
      "review_chunk_12.json: 360.99 MB\n",
      "review_chunk_13.json: 356.57 MB\n",
      "review_chunk_2.json: 362.84 MB\n",
      "review_chunk_9.json: 363.59 MB\n",
      "review_chunk_5.json: 363.33 MB\n",
      "review_chunk_14.json: 71.02 MB\n",
      "review_chunk_15.json: 69.77 MB\n",
      "review_chunk_4.json: 360.82 MB\n",
      "review_chunk_8.json: 361.12 MB\n",
      "review_chunk_7.json: 352.81 MB\n",
      "review_chunk_6.json: 365.13 MB\n",
      "review_chunk_10.json: 354.29 MB\n",
      "review_chunk_1.json: 360.32 MB\n",
      "review_chunk_0.json: 354.95 MB\n",
      "review_chunk_11.json: 357.86 MB\n"
     ]
    }
   ],
   "source": [
    "import os\n",
    "\n",
    "for filename in os.listdir(\"split_chunks\"):\n",
    "    filepath = os.path.join(\"split_chunks\", filename)\n",
    "    size_mb = os.path.getsize(filepath) / (1024 * 1024)\n",
    "    print(f\"{filename}: {size_mb:.2f} MB\")"
   ]
  },
  {
   "cell_type": "code",
   "execution_count": 13,
   "id": "55a01c04-6798-458c-acc7-81941c26d42c",
   "metadata": {},
   "outputs": [
    {
     "data": {
      "text/plain": [
       "'/Users/abhishekkumar/Downloads/Yelp JSON/review_chunks.zip'"
      ]
     },
     "execution_count": 13,
     "metadata": {},
     "output_type": "execute_result"
    }
   ],
   "source": [
    "import shutil\n",
    "\n",
    "shutil.make_archive(\"review_chunks\", 'zip', \"split_chunks\")"
   ]
  },
  {
   "cell_type": "code",
   "execution_count": null,
   "id": "61df14c2-b1c3-4b65-a955-68b7884cb856",
   "metadata": {},
   "outputs": [],
   "source": []
  }
 ],
 "metadata": {
  "kernelspec": {
   "display_name": "Python 3 (ipykernel)",
   "language": "python",
   "name": "python3"
  },
  "language_info": {
   "codemirror_mode": {
    "name": "ipython",
    "version": 3
   },
   "file_extension": ".py",
   "mimetype": "text/x-python",
   "name": "python",
   "nbconvert_exporter": "python",
   "pygments_lexer": "ipython3",
   "version": "3.12.7"
  }
 },
 "nbformat": 4,
 "nbformat_minor": 5
}
