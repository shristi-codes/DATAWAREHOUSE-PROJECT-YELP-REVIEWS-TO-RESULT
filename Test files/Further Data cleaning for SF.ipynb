{
 "cells": [
  {
   "cell_type": "code",
   "execution_count": 6,
   "id": "17c4949f-5332-4346-9fd7-27a7f0140ba2",
   "metadata": {},
   "outputs": [
    {
     "name": "stdout",
     "output_type": "stream",
     "text": [
      "CGfweOHWYayBE27wanPYCw,p7re5Z91bHServ--3nSI4Q,KZW_CVB-8pmIGYX_UVmsqQ,1,0,0,0,1618768653000,Couture Nail Lounge,FL,28,1,\"Beauty, Spas & Personal Care\",0.0\n",
      "\n"
     ]
    }
   ],
   "source": [
    "import pandas as pd\n",
    "file_path = 'yelp_review_dataset_with_sentiment.csv'\n",
    "df = pd.read_csv('yelp_review_dataset_with_sentiment.csv')\n",
    "with open(file_path, 'r') as f:\n",
    "    lines = f.readlines()\n",
    "\n",
    "print(lines[98305])"
   ]
  },
  {
   "cell_type": "code",
   "execution_count": 7,
   "id": "4e99031b-a3ee-4cef-af4d-059366216fbb",
   "metadata": {},
   "outputs": [],
   "source": [
    "cols_to_clean = ['industry', 'name']  # Add any other string columns you want to clean\n",
    "\n",
    "for col in cols_to_clean:\n",
    "    df[col] = df[col].astype(str).str.replace(',', '', regex=False)"
   ]
  },
  {
   "cell_type": "code",
   "execution_count": 8,
   "id": "2676137a-163d-46d9-964c-3035d21f1842",
   "metadata": {},
   "outputs": [],
   "source": [
    "df.to_csv(\"yelp_review_cleaned_no_commas.csv\", index=False)"
   ]
  },
  {
   "cell_type": "code",
   "execution_count": 10,
   "id": "d6829877-5620-4a01-b679-d3f45b34b760",
   "metadata": {},
   "outputs": [
    {
     "data": {
      "text/html": [
       "<a href='yelp_review_dataset_with_sentiment_SF.csv' target='_blank'>yelp_review_dataset_with_sentiment_SF.csv</a><br>"
      ],
      "text/plain": [
       "/Users/abhishekkumar/Downloads/Yelp JSON/yelp_review_dataset_with_sentiment_SF.csv"
      ]
     },
     "execution_count": 10,
     "metadata": {},
     "output_type": "execute_result"
    }
   ],
   "source": [
    "from IPython.display import FileLink\n",
    "\n",
    "# Save the cleaned DataFrame to a JSON file in the current working directory\n",
    "df.to_csv('yelp_review_dataset_with_sentiment_SF.csv')\n",
    "\n",
    "# Create a download link for the JSON file\n",
    "FileLink('yelp_review_dataset_with_sentiment_SF.csv')"
   ]
  },
  {
   "cell_type": "code",
   "execution_count": 11,
   "id": "bef12d02-55d6-4dc1-9004-6a65e356a218",
   "metadata": {},
   "outputs": [],
   "source": [
    "import pandas as pd\n",
    "\n",
    "df = pd.read_csv('Yelp_Industry_Dataset.csv')  # Read the original\n",
    "df.to_csv('Yelp_Industry_Dataset.csv', index=False, quoting=1) \n"
   ]
  },
  {
   "cell_type": "code",
   "execution_count": 13,
   "id": "f897bc94-496c-47b2-b095-774701236575",
   "metadata": {},
   "outputs": [
    {
     "data": {
      "text/html": [
       "<div>\n",
       "<style scoped>\n",
       "    .dataframe tbody tr th:only-of-type {\n",
       "        vertical-align: middle;\n",
       "    }\n",
       "\n",
       "    .dataframe tbody tr th {\n",
       "        vertical-align: top;\n",
       "    }\n",
       "\n",
       "    .dataframe thead th {\n",
       "        text-align: right;\n",
       "    }\n",
       "</style>\n",
       "<table border=\"1\" class=\"dataframe\">\n",
       "  <thead>\n",
       "    <tr style=\"text-align: right;\">\n",
       "      <th></th>\n",
       "      <th>Unnamed: 0</th>\n",
       "      <th>industry_id</th>\n",
       "      <th>industry</th>\n",
       "      <th>categories</th>\n",
       "    </tr>\n",
       "  </thead>\n",
       "  <tbody>\n",
       "    <tr>\n",
       "      <th>0</th>\n",
       "      <td>0</td>\n",
       "      <td>1</td>\n",
       "      <td>Healthcare &amp; Medical</td>\n",
       "      <td>Addiction Medicine, Allergists, Audiologist, B...</td>\n",
       "    </tr>\n",
       "    <tr>\n",
       "      <th>1</th>\n",
       "      <td>1</td>\n",
       "      <td>2</td>\n",
       "      <td>Travel, Hotels &amp; Transportation</td>\n",
       "      <td>Airlines, Airport Lounges, Airport Terminals, ...</td>\n",
       "    </tr>\n",
       "    <tr>\n",
       "      <th>2</th>\n",
       "      <td>2</td>\n",
       "      <td>3</td>\n",
       "      <td>Education &amp; Learning</td>\n",
       "      <td>Adult Education, Child Care &amp; Day Care, Childb...</td>\n",
       "    </tr>\n",
       "    <tr>\n",
       "      <th>3</th>\n",
       "      <td>3</td>\n",
       "      <td>4</td>\n",
       "      <td>Community &amp; Public Services</td>\n",
       "      <td>Community Centers, Courthouses, Departments of...</td>\n",
       "    </tr>\n",
       "    <tr>\n",
       "      <th>4</th>\n",
       "      <td>4</td>\n",
       "      <td>5</td>\n",
       "      <td>Home &amp; Local Services</td>\n",
       "      <td>Artificial Turf, Awnings, Battery Stores, Carp...</td>\n",
       "    </tr>\n",
       "  </tbody>\n",
       "</table>\n",
       "</div>"
      ],
      "text/plain": [
       "   Unnamed: 0  industry_id                         industry  \\\n",
       "0           0            1             Healthcare & Medical   \n",
       "1           1            2  Travel, Hotels & Transportation   \n",
       "2           2            3             Education & Learning   \n",
       "3           3            4      Community & Public Services   \n",
       "4           4            5            Home & Local Services   \n",
       "\n",
       "                                          categories  \n",
       "0  Addiction Medicine, Allergists, Audiologist, B...  \n",
       "1  Airlines, Airport Lounges, Airport Terminals, ...  \n",
       "2  Adult Education, Child Care & Day Care, Childb...  \n",
       "3  Community Centers, Courthouses, Departments of...  \n",
       "4  Artificial Turf, Awnings, Battery Stores, Carp...  "
      ]
     },
     "execution_count": 13,
     "metadata": {},
     "output_type": "execute_result"
    }
   ],
   "source": [
    "df.head()"
   ]
  },
  {
   "cell_type": "code",
   "execution_count": 17,
   "id": "e940fdc4-bbd2-41c8-8d92-62ae44de9fa2",
   "metadata": {},
   "outputs": [],
   "source": [
    "import pandas as pd\n",
    "import csv\n",
    "\n",
    "# Load your raw CSV (the one without quotes)\n",
    "df = pd.read_csv(\"Yelp_Industry_Dataset.csv\")\n",
    "\n",
    "# Drop the 'Unnamed: 0' column (pandas index)\n",
    "df = df.drop(columns=[\"Unnamed: 0\"], errors='ignore')\n",
    "\n",
    "# Save with all fields quoted (QUOTE_ALL = 1)\n",
    "df.to_csv(\"Yelp_Industry_Dataset_SF.csv\", index=False, quoting=csv.QUOTE_ALL)\n"
   ]
  },
  {
   "cell_type": "code",
   "execution_count": 19,
   "id": "6f33f99d-d93a-42c2-a47c-8199058ffc58",
   "metadata": {},
   "outputs": [
    {
     "data": {
      "text/html": [
       "<div>\n",
       "<style scoped>\n",
       "    .dataframe tbody tr th:only-of-type {\n",
       "        vertical-align: middle;\n",
       "    }\n",
       "\n",
       "    .dataframe tbody tr th {\n",
       "        vertical-align: top;\n",
       "    }\n",
       "\n",
       "    .dataframe thead th {\n",
       "        text-align: right;\n",
       "    }\n",
       "</style>\n",
       "<table border=\"1\" class=\"dataframe\">\n",
       "  <thead>\n",
       "    <tr style=\"text-align: right;\">\n",
       "      <th></th>\n",
       "      <th>industry_id</th>\n",
       "      <th>industry</th>\n",
       "      <th>categories</th>\n",
       "    </tr>\n",
       "  </thead>\n",
       "  <tbody>\n",
       "    <tr>\n",
       "      <th>0</th>\n",
       "      <td>1</td>\n",
       "      <td>Healthcare &amp; Medical</td>\n",
       "      <td>Addiction Medicine, Allergists, Audiologist, B...</td>\n",
       "    </tr>\n",
       "    <tr>\n",
       "      <th>1</th>\n",
       "      <td>2</td>\n",
       "      <td>Travel, Hotels &amp; Transportation</td>\n",
       "      <td>Airlines, Airport Lounges, Airport Terminals, ...</td>\n",
       "    </tr>\n",
       "    <tr>\n",
       "      <th>2</th>\n",
       "      <td>3</td>\n",
       "      <td>Education &amp; Learning</td>\n",
       "      <td>Adult Education, Child Care &amp; Day Care, Childb...</td>\n",
       "    </tr>\n",
       "    <tr>\n",
       "      <th>3</th>\n",
       "      <td>4</td>\n",
       "      <td>Community &amp; Public Services</td>\n",
       "      <td>Community Centers, Courthouses, Departments of...</td>\n",
       "    </tr>\n",
       "    <tr>\n",
       "      <th>4</th>\n",
       "      <td>5</td>\n",
       "      <td>Home &amp; Local Services</td>\n",
       "      <td>Artificial Turf, Awnings, Battery Stores, Carp...</td>\n",
       "    </tr>\n",
       "  </tbody>\n",
       "</table>\n",
       "</div>"
      ],
      "text/plain": [
       "   industry_id                         industry  \\\n",
       "0            1             Healthcare & Medical   \n",
       "1            2  Travel, Hotels & Transportation   \n",
       "2            3             Education & Learning   \n",
       "3            4      Community & Public Services   \n",
       "4            5            Home & Local Services   \n",
       "\n",
       "                                          categories  \n",
       "0  Addiction Medicine, Allergists, Audiologist, B...  \n",
       "1  Airlines, Airport Lounges, Airport Terminals, ...  \n",
       "2  Adult Education, Child Care & Day Care, Childb...  \n",
       "3  Community Centers, Courthouses, Departments of...  \n",
       "4  Artificial Turf, Awnings, Battery Stores, Carp...  "
      ]
     },
     "execution_count": 19,
     "metadata": {},
     "output_type": "execute_result"
    }
   ],
   "source": [
    "df.head()"
   ]
  },
  {
   "cell_type": "code",
   "execution_count": 12,
   "id": "2cbb27f1-f358-47e9-8f2a-b3edcbb06d3d",
   "metadata": {},
   "outputs": [
    {
     "data": {
      "text/html": [
       "<a href='Yelp_Industry_Dataset_SF.csv' target='_blank'>Yelp_Industry_Dataset_SF.csv</a><br>"
      ],
      "text/plain": [
       "/Users/abhishekkumar/Downloads/Yelp JSON/Yelp_Industry_Dataset_SF.csv"
      ]
     },
     "execution_count": 12,
     "metadata": {},
     "output_type": "execute_result"
    }
   ],
   "source": [
    "from IPython.display import FileLink\n",
    "\n",
    "# Save the cleaned DataFrame to a JSON file in the current working directory\n",
    "df.to_csv('Yelp_Industry_Dataset_SF.csv')\n",
    "\n",
    "# Create a download link for the JSON file\n",
    "FileLink('Yelp_Industry_Dataset_SF.csv')\n"
   ]
  },
  {
   "cell_type": "code",
   "execution_count": null,
   "id": "d8a13db2-3dec-4676-afff-2fca1954c69e",
   "metadata": {},
   "outputs": [],
   "source": []
  }
 ],
 "metadata": {
  "kernelspec": {
   "display_name": "Python 3 (ipykernel)",
   "language": "python",
   "name": "python3"
  },
  "language_info": {
   "codemirror_mode": {
    "name": "ipython",
    "version": 3
   },
   "file_extension": ".py",
   "mimetype": "text/x-python",
   "name": "python",
   "nbconvert_exporter": "python",
   "pygments_lexer": "ipython3",
   "version": "3.12.7"
  }
 },
 "nbformat": 4,
 "nbformat_minor": 5
}
